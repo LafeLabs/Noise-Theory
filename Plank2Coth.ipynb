{
 "cells": [
  {
   "cell_type": "markdown",
   "metadata": {},
   "source": [
    "This is the expression used in textbooks, e.g. equation 2 chapter 5 in Kittel:\n",
    "\n",
    "$<n>_{not quite right} = \\frac{1}{e^{\\hbar\\omega/kT} - 1}$.\n",
    "\n",
    "It ignores the quantum zero point fluctuations, and so is wrong when that physics matters.  To show this, consider finite frequency and zero temperature.  If T goes to zero, the exponential goes to positive infinity so the reciprocal goes to zero.  But we know that's wrong, the occupancy should be that plus a half for the quantum noise.  So the correct expression is \n",
    "\n",
    "$<n>_{correct} = \\frac{1}{e^{\\hbar\\omega/kT} - 1} + \\frac{1}{2}$\n",
    "\n",
    "$<n> = e^{-\\hbar\\omega/2kT}\\frac{1}{e^{\\hbar\\omega/kT} - 1} + \\frac{1}{2}\n",
    "= \\frac{e^{-\\hbar\\omega/2kT}}{e^{\\hbar\\omega/2kT} - e^{-\\hbar\\omega/2kT}}\n",
    "+ \\frac{\\frac{1}{2}e^{\\hbar\\omega/2kT} - \\frac{1}{2}e^{-\\hbar\\omega/2kT}}{e^{\\hbar\\omega/2kT} - e^{-\\hbar\\omega/2kT}}\n",
    "= \\frac{\\frac{1}{2}e^{\\hbar\\omega/2kT} + \\frac{1}{2}e^{-\\hbar\\omega/2kT}}{e^{\\hbar\\omega/2kT} - e^{-\\hbar\\omega/2kT}}\n",
    "$\n",
    "\n",
    "$=\\frac{1}{2}\\coth{\\frac{\\hbar\\omega}{2kT}}$"
   ]
  },
  {
   "cell_type": "code",
   "execution_count": null,
   "metadata": {
    "collapsed": true
   },
   "outputs": [],
   "source": []
  }
 ],
 "metadata": {
  "kernelspec": {
   "display_name": "Python 2",
   "language": "python",
   "name": "python2"
  },
  "language_info": {
   "codemirror_mode": {
    "name": "ipython",
    "version": 2
   },
   "file_extension": ".py",
   "mimetype": "text/x-python",
   "name": "python",
   "nbconvert_exporter": "python",
   "pygments_lexer": "ipython2",
   "version": "2.7.10"
  }
 },
 "nbformat": 4,
 "nbformat_minor": 0
}
